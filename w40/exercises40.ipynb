{
 "cells": [
  {
   "cell_type": "markdown",
   "id": "ebfb35f3",
   "metadata": {},
   "source": [
    "## Exercise 1"
   ]
  },
  {
   "cell_type": "markdown",
   "id": "d68951ca",
   "metadata": {},
   "source": [
    "$\\textbf{a)}$\n",
    "$\\textbf{b)}$\n",
    "$\\textbf{c)}$\n",
    "$\\textbf{d)}$\n",
    "$\\textbf{e)}$\n",
    "$\\textbf{f)}$"
   ]
  },
  {
   "cell_type": "markdown",
   "id": "15ae172d",
   "metadata": {},
   "source": [
    "## Exercise 2"
   ]
  },
  {
   "cell_type": "markdown",
   "id": "7d0be1d6",
   "metadata": {},
   "source": [
    "## Exercise 3"
   ]
  },
  {
   "cell_type": "markdown",
   "id": "6f1d172f",
   "metadata": {},
   "source": [
    "## Exercise 4"
   ]
  },
  {
   "cell_type": "markdown",
   "id": "4976dd3e",
   "metadata": {},
   "source": [
    "## Exercise 5"
   ]
  }
 ],
 "metadata": {
  "kernelspec": {
   "display_name": ".venv",
   "language": "python",
   "name": "python3"
  },
  "language_info": {
   "codemirror_mode": {
    "name": "ipython",
    "version": 3
   },
   "file_extension": ".py",
   "mimetype": "text/x-python",
   "name": "python",
   "nbconvert_exporter": "python",
   "pygments_lexer": "ipython3",
   "version": "3.11.1"
  }
 },
 "nbformat": 4,
 "nbformat_minor": 5
}
