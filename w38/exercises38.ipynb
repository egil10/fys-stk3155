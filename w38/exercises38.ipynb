{
 "cells": [
  {
   "cell_type": "markdown",
   "id": "717a372a",
   "metadata": {},
   "source": [
    "## Exercise 1"
   ]
  },
  {
   "cell_type": "markdown",
   "id": "5b0434d7",
   "metadata": {},
   "source": [
    "#### a)\n",
    "\n",
    "Show that $\\newline$\n",
    "$\\mathbb{E}(\\hat{\\beta}_{OLS})=\\beta$\n",
    "\n",
    "Assuming standard linear model for $\\newline$\n",
    "$y=X\\beta+\\epsilon$ $\\newline$\n",
    "with $\\newline$\n",
    "$\\mathbb{E}[\\epsilon]=0$ $\\newline$\n",
    "and $\\newline$\n",
    "$Var(\\epsilon)=\\sigma^2$, $\\newline$\n",
    "then $\\newline$\n",
    "$\\hat{\\beta}_{OLS}=(X^TX)^{-1}X^Ty$.\n",
    "\n",
    "Then\n",
    "$\\mathbb{E}[\\hat{\\beta}_{OLS}]$ $\\newline$\n",
    "= $\\mathbb{E}[(X^TX)^{-1}X^Ty]$ $\\newline$\n",
    "= $(X^T)^{-1}X^T\\mathbb{E}[y]$ $\\newline$\n",
    "= $(X^TX)^{-1}X^T\\mathbb{E}[X\\beta+\\epsilon]$ $\\newline$\n",
    "= $(X^TX)^{-1}X^T(X\\beta+\\mathbb{E}[\\epsilon])$ $\\newline$\n",
    "= $(X^TX)^{-1}X^T(X^TX)\\beta$ $\\newline$\n",
    "= $\\beta$\n",
    "\n",
    "\n"
   ]
  },
  {
   "cell_type": "markdown",
   "id": "8b6d1127",
   "metadata": {},
   "source": [
    "#### b)\n",
    "\n",
    "Show that  \n",
    "$\n",
    "\\mathrm{Var}(\\hat{\\beta}_{\\mathrm{OLS}}) = \\sigma^2 (X^\\top X)^{-1}\n",
    "$\n",
    "\n",
    "As before we have  $\\newline$\n",
    "$\n",
    "y = X\\beta + \\epsilon\n",
    "$\n",
    "with  $\\newline$\n",
    "$\n",
    "\\mathbb{E}[\\epsilon] = 0, \\quad \\mathrm{Var}(\\epsilon) = \\sigma^2 I,\n",
    "$\n",
    "then  $\\newline$\n",
    "$\n",
    "\\hat{\\beta}_{\\mathrm{OLS}} = (X^\\top X)^{-1} X^\\top y.\n",
    "$\n",
    "\n",
    "First, we center the estimator as such  \n",
    "$\n",
    "\\hat{\\beta}_{\\mathrm{OLS}} - \\beta \\newline\n",
    "= (X^\\top X)^{-1}X^\\top(X\\beta + \\epsilon) - \\beta  \\newline\n",
    "= (X^\\top X)^{-1}X^\\top X\\beta + (X^\\top X)^{-1}X^\\top \\epsilon - \\beta \\newline\n",
    "= (X^\\top X)^{-1}X^\\top \\epsilon.\n",
    "$\n",
    "\n",
    "Then we can write the variance as an expectation  \n",
    "$\n",
    "\\mathrm{Var}(\\hat{\\beta}_{\\mathrm{OLS}}) \n",
    "= \\mathbb{E}\\big[(\\hat{\\beta}_{\\mathrm{OLS}}-\\beta)(\\hat{\\beta}_{\\mathrm{OLS}}-\\beta)^\\top\\big].\n",
    "$\n",
    "\n",
    "From here, using the centered form,  \n",
    "$\n",
    "\\mathrm{Var}(\\hat{\\beta}_{\\mathrm{OLS}})\n",
    "= \\mathbb{E}\\left[(X^\\top X)^{-1}X^\\top \\epsilon \\, \\epsilon^\\top X (X^\\top X)^{-1}\\right].\n",
    "$\n",
    "\n",
    "Since \\(X\\) is fixed,  \n",
    "$\n",
    "\\mathrm{Var}(\\hat{\\beta}_{\\mathrm{OLS}})\n",
    "= (X^\\top X)^{-1} X^\\top \\, \\mathbb{E}[\\epsilon \\epsilon^\\top] \\, X (X^\\top X)^{-1}.\n",
    "$\n",
    "\n",
    "Using the covariance of \\(\\epsilon\\),  \n",
    "$\n",
    "\\mathbb{E}[\\epsilon \\epsilon^\\top] = \\sigma^2 I,\n",
    "$\n",
    "\n",
    "we get  \n",
    "$\n",
    "\\mathrm{Var}(\\hat{\\beta}_{\\mathrm{OLS}})\n",
    "= \\sigma^2 (X^\\top X)^{-1} X^\\top X (X^\\top X)^{-1}\n",
    "= \\sigma^2 (X^\\top X)^{-1}.\n",
    "$\n"
   ]
  },
  {
   "cell_type": "markdown",
   "id": "fb798d30",
   "metadata": {},
   "source": [
    "## Exercise 2"
   ]
  },
  {
   "cell_type": "markdown",
   "id": "1c49308a",
   "metadata": {},
   "source": [
    "#### a)\n",
    "\n",
    "Show that \n",
    "$\\newline\\mathbb{E}[\\hat{\\beta}_{\\text{Ridge}}] = (X^\\top X + \\lambda I)^{-1} X^\\top X\\,\\beta$\n",
    "\n",
    "Assume the standard linear model $ y = X\\beta + \\epsilon$ with $\\mathbb{E}[\\epsilon]=0, \\mathrm{Var}(\\epsilon)=\\sigma^2 I$ and the Ridge estimator $\\hat{\\beta}_{\\text{Ridge}} = (X^\\top X + \\lambda I)^{-1} X^\\top y \\newline$\n",
    "\n",
    "Then \n",
    "$\\newline\n",
    "\\begin{aligned}\n",
    "\\mathbb{E}[\\hat{\\beta}_{\\text{Ridge}}]\n",
    "&= \\mathbb{E}\\!\\left[(X^\\top X + \\lambda I)^{-1} X^\\top y\\right] \\\\\n",
    "&= (X^\\top X + \\lambda I)^{-1} X^\\top \\mathbb{E}[y] \\\\\n",
    "&= (X^\\top X + \\lambda I)^{-1} X^\\top \\mathbb{E}[X\\beta + \\epsilon] \\\\\n",
    "&= (X^\\top X + \\lambda I)^{-1} X^\\top (X\\beta + \\mathbb{E}[\\epsilon]) \\\\\n",
    "&= (X^\\top X + \\lambda I)^{-1} X^\\top X\\,\\beta.\n",
    "\\end{aligned}$\n",
    "\n",
    "As such for any $\\lambda>0$ Ridge is biased $\\mathbb{E}[\\hat{\\beta}_{\\text{Ridge}}] \\neq \\beta$ \n"
   ]
  },
  {
   "cell_type": "markdown",
   "id": "e846cfa7",
   "metadata": {},
   "source": []
  },
  {
   "cell_type": "markdown",
   "id": "680100d7",
   "metadata": {},
   "source": [
    "## Exercise 3"
   ]
  },
  {
   "cell_type": "markdown",
   "id": "27de3e76",
   "metadata": {},
   "source": [
    "#### a)"
   ]
  },
  {
   "cell_type": "markdown",
   "id": "ac3664e1",
   "metadata": {},
   "source": [
    "#### b)"
   ]
  },
  {
   "cell_type": "markdown",
   "id": "b49c7b63",
   "metadata": {},
   "source": [
    "## Exercise 4"
   ]
  },
  {
   "cell_type": "markdown",
   "id": "8c2303ec",
   "metadata": {},
   "source": [
    "#### a)"
   ]
  },
  {
   "cell_type": "markdown",
   "metadata": {},
   "source": [
    "#### b)"
   ]
  },
  {
   "cell_type": "markdown",
   "metadata": {},
   "source": [
    "#### c)"
   ]
  },
  {
   "cell_type": "markdown",
   "id": "331eaaa6",
   "metadata": {},
   "source": [
    "#### d)"
   ]
  },
  {
   "cell_type": "markdown",
   "id": "3b238fb8",
   "metadata": {},
   "source": [
    "#### e)"
   ]
  },
  {
   "cell_type": "markdown",
   "id": "1604af2e",
   "metadata": {},
   "source": [
    "#### f)"
   ]
  },
  {
   "cell_type": "markdown",
   "id": "9b113b30",
   "metadata": {},
   "source": [
    "## Exercise 5"
   ]
  },
  {
   "cell_type": "markdown",
   "id": "81461c4a",
   "metadata": {},
   "source": [
    "#### a)"
   ]
  },
  {
   "cell_type": "markdown",
   "id": "33c78038",
   "metadata": {},
   "source": [
    "#### b)"
   ]
  },
  {
   "cell_type": "markdown",
   "id": "0de298cf",
   "metadata": {},
   "source": [
    "#### c)"
   ]
  },
  {
   "cell_type": "markdown",
   "metadata": {},
   "source": [
    "#### d)"
   ]
  },
  {
   "cell_type": "markdown",
   "metadata": {},
   "source": [
    "#### e)"
   ]
  },
  {
   "cell_type": "markdown",
   "id": "700defb2",
   "metadata": {},
   "source": [
    "#### f)"
   ]
  }
 ],
 "metadata": {
  "kernelspec": {
   "display_name": ".venv",
   "language": "python",
   "name": "python3"
  },
  "language_info": {
   "codemirror_mode": {
    "name": "ipython",
    "version": 3
   },
   "file_extension": ".py",
   "mimetype": "text/x-python",
   "name": "python",
   "nbconvert_exporter": "python",
   "pygments_lexer": "ipython3",
   "version": "3.11.1"
  }
 },
 "nbformat": 4,
 "nbformat_minor": 5
}
