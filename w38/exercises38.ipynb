{
 "cells": [
  {
   "cell_type": "markdown",
   "id": "717a372a",
   "metadata": {},
   "source": [
    "## Exercise 1"
   ]
  },
  {
   "cell_type": "markdown",
   "id": "5b0434d7",
   "metadata": {},
   "source": [
    "#### a)\n",
    "\n",
    "Show that $\\newline$\n",
    "$\\mathbb{E}(\\hat{\\beta}_{OLS})=\\beta$\n",
    "\n",
    "Assuming standard linear model for $\\newline$\n",
    "$y=X\\beta+\\epsilon$ $\\newline$\n",
    "with $\\newline$\n",
    "$\\mathbb{E}[\\epsilon]=0$ $\\newline$\n",
    "and $\\newline$\n",
    "$Var(\\epsilon)=\\sigma^2$, $\\newline$\n",
    "then $\\newline$\n",
    "$\\hat{\\beta}_{OLS}=(X^TX)^{-1}X^Ty$.\n",
    "\n",
    "Then\n",
    "$\\mathbb{E}[\\hat{\\beta}_{OLS}]$ $\\newline$\n",
    "= $\\mathbb{E}[(X^TX)^{-1}X^Ty]$ $\\newline$\n",
    "= $(X^T)^{-1}X^T\\mathbb{E}[y]$ $\\newline$\n",
    "= $(X^TX)^{-1}X^T\\mathbb{E}[X\\beta+\\epsilon]$ $\\newline$\n",
    "= $(X^TX)^{-1}X^T(X\\beta+\\mathbb{E}[\\epsilon])$ $\\newline$\n",
    "= $(X^TX)^{-1}X^T(X^TX)\\beta$ $\\newline$\n",
    "= $\\beta$\n",
    "\n",
    "\n"
   ]
  },
  {
   "cell_type": "markdown",
   "id": "8b6d1127",
   "metadata": {},
   "source": [
    "#### b)\n",
    "\n",
    "Show that  \n",
    "$\n",
    "\\mathrm{Var}(\\hat{\\beta}_{\\mathrm{OLS}}) = \\sigma^2 (X^\\top X)^{-1}\n",
    "$\n",
    "\n",
    "As before we have  $\\newline$\n",
    "$\n",
    "y = X\\beta + \\epsilon\n",
    "$\n",
    "with  $\\newline$\n",
    "$\n",
    "\\mathbb{E}[\\epsilon] = 0, \\quad \\mathrm{Var}(\\epsilon) = \\sigma^2 I,\n",
    "$\n",
    "then  $\\newline$\n",
    "$\n",
    "\\hat{\\beta}_{\\mathrm{OLS}} = (X^\\top X)^{-1} X^\\top y.\n",
    "$\n",
    "\n",
    "First, we center the estimator as such  \n",
    "$\n",
    "\\hat{\\beta}_{\\mathrm{OLS}} - \\beta \\newline\n",
    "= (X^\\top X)^{-1}X^\\top(X\\beta + \\epsilon) - \\beta  \\newline\n",
    "= (X^\\top X)^{-1}X^\\top X\\beta + (X^\\top X)^{-1}X^\\top \\epsilon - \\beta \\newline\n",
    "= (X^\\top X)^{-1}X^\\top \\epsilon.\n",
    "$\n",
    "\n",
    "Then we can write the variance as an expectation  \n",
    "$\n",
    "\\mathrm{Var}(\\hat{\\beta}_{\\mathrm{OLS}}) \n",
    "= \\mathbb{E}\\big[(\\hat{\\beta}_{\\mathrm{OLS}}-\\beta)(\\hat{\\beta}_{\\mathrm{OLS}}-\\beta)^\\top\\big].\n",
    "$\n",
    "\n",
    "From here, using the centered form,  \n",
    "$\n",
    "\\mathrm{Var}(\\hat{\\beta}_{\\mathrm{OLS}})\n",
    "= \\mathbb{E}\\left[(X^\\top X)^{-1}X^\\top \\epsilon \\, \\epsilon^\\top X (X^\\top X)^{-1}\\right].\n",
    "$\n",
    "\n",
    "Since \\(X\\) is fixed,  \n",
    "$\n",
    "\\mathrm{Var}(\\hat{\\beta}_{\\mathrm{OLS}})\n",
    "= (X^\\top X)^{-1} X^\\top \\, \\mathbb{E}[\\epsilon \\epsilon^\\top] \\, X (X^\\top X)^{-1}.\n",
    "$\n",
    "\n",
    "Using the covariance of \\(\\epsilon\\),  \n",
    "$\n",
    "\\mathbb{E}[\\epsilon \\epsilon^\\top] = \\sigma^2 I,\n",
    "$\n",
    "\n",
    "we get  \n",
    "$\n",
    "\\mathrm{Var}(\\hat{\\beta}_{\\mathrm{OLS}})\n",
    "= \\sigma^2 (X^\\top X)^{-1} X^\\top X (X^\\top X)^{-1}\n",
    "= \\sigma^2 (X^\\top X)^{-1}.\n",
    "$\n"
   ]
  },
  {
   "cell_type": "markdown",
   "id": "fb798d30",
   "metadata": {},
   "source": [
    "## Exercise 2"
   ]
  },
  {
   "cell_type": "markdown",
   "id": "1c49308a",
   "metadata": {},
   "source": [
    "#### a)\n",
    "\n",
    "Show that \n",
    "$\\newline\\mathbb{E}[\\hat{\\beta}_{\\text{Ridge}}] = (X^\\top X + \\lambda I)^{-1} X^\\top X\\,\\beta$\n",
    "\n",
    "Assume the standard linear model $ y = X\\beta + \\epsilon$ with $\\mathbb{E}[\\epsilon]=0, \\mathrm{Var}(\\epsilon)=\\sigma^2 I$ and the Ridge estimator $\\hat{\\beta}_{\\text{Ridge}} = (X^\\top X + \\lambda I)^{-1} X^\\top y \\newline$\n",
    "\n",
    "Then \n",
    "$\\newline\n",
    "\\begin{aligned}\n",
    "\\mathbb{E}[\\hat{\\beta}_{\\text{Ridge}}]\n",
    "&= \\mathbb{E}\\!\\left[(X^\\top X + \\lambda I)^{-1} X^\\top y\\right] \\\\\n",
    "&= (X^\\top X + \\lambda I)^{-1} X^\\top \\mathbb{E}[y] \\\\\n",
    "&= (X^\\top X + \\lambda I)^{-1} X^\\top \\mathbb{E}[X\\beta + \\epsilon] \\\\\n",
    "&= (X^\\top X + \\lambda I)^{-1} X^\\top (X\\beta + \\mathbb{E}[\\epsilon]) \\\\\n",
    "&= (X^\\top X + \\lambda I)^{-1} X^\\top X\\,\\beta.\n",
    "\\end{aligned}$\n",
    "\n",
    "As such for any $\\lambda>0$ Ridge is biased $\\mathbb{E}[\\hat{\\beta}_{\\text{Ridge}}] \\neq \\beta$ \n"
   ]
  },
  {
   "cell_type": "markdown",
   "id": "e846cfa7",
   "metadata": {},
   "source": [
    "#### b)\n",
    "\n",
    "Show that \n",
    "$\\newline \\mathrm{Var}(\\hat{\\beta}_{\\text{Ridge}}) = \\sigma^2 \\,[X^\\top X + \\lambda I]^{-1} X^\\top X \\,\\{[X^\\top X + \\lambda I]^{-1}\\}^\\top$\n",
    "\n",
    "Assume the standard linear model $ y = X\\beta + \\epsilon$ with $\\mathbb{E}[\\epsilon]=0, \\mathrm{Var}(\\epsilon)=\\sigma^2 I$ and the Ridge estimator $\\hat{\\beta}_{\\text{Ridge}} = (X^\\top X + \\lambda I)^{-1} X^\\top y \\newline$\n",
    "\n",
    "Then \n",
    "$\\newline\n",
    "\\begin{aligned}\n",
    "\\hat{\\beta}_{\\text{Ridge}}\n",
    "&= (X^\\top X + \\lambda I)^{-1} X^\\top (X\\beta + \\epsilon) \\\\\n",
    "&= (X^\\top X + \\lambda I)^{-1} X^\\top X\\,\\beta \\;+\\; (X^\\top X + \\lambda I)^{-1} X^\\top \\epsilon .\n",
    "\\end{aligned}\n",
    "$\n",
    "\n",
    "Hence the constant term drops in the variance and\n",
    "$\\newline\n",
    "\\begin{aligned}\n",
    "\\mathrm{Var}(\\hat{\\beta}_{\\text{Ridge}})\n",
    "&= \\mathrm{Var}\\!\\big( (X^\\top X + \\lambda I)^{-1} X^\\top \\epsilon \\big) \\\\\n",
    "&= (X^\\top X + \\lambda I)^{-1} X^\\top \\, \\mathrm{Var}(\\epsilon)\\, X \\{[X^\\top X + \\lambda I]^{-1}\\}^\\top \\\\\n",
    "&= \\sigma^2 \\,[X^\\top X + \\lambda I]^{-1} X^\\top X \\,\\{[X^\\top X + \\lambda I]^{-1}\\}^\\top .\n",
    "\\end{aligned}\n",
    "$\n"
   ]
  },
  {
   "cell_type": "markdown",
   "id": "680100d7",
   "metadata": {},
   "source": [
    "## Exercise 3"
   ]
  },
  {
   "cell_type": "markdown",
   "id": "27de3e76",
   "metadata": {},
   "source": [
    "#### a)\n",
    "\n",
    "Show that  \n",
    "$$ \\mathbb{E}\\big[(y-\\tilde y)^2\\big] \\;=\\; \\mathrm{Bias}[\\tilde y] \\;+\\; \\mathrm{Var}[\\tilde y] \\;+\\; \\sigma^2, $$\n",
    "with  \n",
    "$$ \\mathrm{Bias}[\\tilde y] = \\mathbb{E}\\big[(y-\\mathbb{E}[\\tilde y])^2\\big], \\qquad\n",
    "\\mathrm{Var}[\\tilde y] = \\mathbb{E}\\big[(\\tilde y-\\mathbb{E}[\\tilde y])^2\\big]. $$\n",
    "\n",
    "We can assume that $y=f(x)+\\varepsilon$ with $\\mathbb{E}[\\varepsilon]=0$ and $\\mathrm{Var}(\\varepsilon)=\\sigma^2$. Then let $\\tilde y$ be the model prediction.\n",
    "\n",
    "Startin from $$ \\mathbb{E}\\big[(y-\\tilde y)^2\\big]=\\mathbb{E}\\big[(f+\\varepsilon-\\tilde y)^2\\big]. $$ we can add and subtract $\\mathbb{E}[\\tilde y]$ which gives $\\newline$\n",
    "\n",
    "$$\n",
    "\\mathbb{E}\\big[(f-\\mathbb{E}[\\tilde y] + \\mathbb{E}[\\tilde y]-\\tilde y + \\varepsilon)^2\\big].\n",
    "$$\n",
    "\n",
    "Thereafter, we can expand and take the expectations where cross terms are removed since $\\mathbb{E}[\\varepsilon]=0$, $\\varepsilon$ is independent of $\\tilde y$, and $f$ is non-random.\n",
    "\n",
    "Then we find\n",
    "$$\n",
    "\\mathbb{E}\\big[(f-\\mathbb{E}[\\tilde y])^2\\big]\n",
    "+\\mathbb{E}\\big[(\\tilde y-\\mathbb{E}[\\tilde y])^2\\big]\n",
    "+\\mathbb{E}[\\varepsilon^2].\n",
    "$$\n",
    "\n",
    "And therefore\n",
    "$$\n",
    "\\mathbb{E}\\big[(y-\\tilde y)^2\\big]\n",
    "= \\underbrace{\\mathbb{E}\\big[(f-\\mathbb{E}[\\tilde y])^2\\big]}_{\\text{bias}}\n",
    "+ \\underbrace{\\mathbb{E}\\big[(\\tilde y-\\mathbb{E}[\\tilde y])^2\\big]}_{\\text{variance}}\n",
    "+ \\underbrace{\\sigma^2}_{\\text{noise}}.\n",
    "$$\n",
    "\n",
    "Since $f$ is unknown, the notes write the bias using $y$ as a proxy becomes\n",
    "$$\n",
    "\\mathrm{Bias}[\\tilde y] = \\mathbb{E}\\big[(y-\\mathbb{E}[\\tilde y])^2\\big],\n",
    "$$\n"
   ]
  },
  {
   "cell_type": "markdown",
   "id": "08a75c23",
   "metadata": {},
   "source": [
    "#### b)\n",
    "\n",
    "Bias measures the distance from the true underlying function to the avg. model prediction. If we find high bias this means that the model is underfitting the actual true patterns in the data. \n",
    "\n",
    "Variance on the other hand is a measure of the changes or differences in the predictions from the model given training on different datasets. If we see a high variance this means that the model is overfitting and too sensitive to noise and non-true patterns in the data.\n",
    "\n",
    "The noise term is furthermore an error from randomness in the data which is not reducible and that no model can eliminate. "
   ]
  },
  {
   "cell_type": "markdown",
   "id": "b49c7b63",
   "metadata": {},
   "source": [
    "## Exercise 4"
   ]
  },
  {
   "cell_type": "markdown",
   "id": "8c2303ec",
   "metadata": {},
   "source": [
    "#### a)"
   ]
  },
  {
   "cell_type": "code",
   "execution_count": 7,
   "id": "eb49ae66",
   "metadata": {},
   "outputs": [
    {
     "name": "stdout",
     "output_type": "stream",
     "text": [
      "mse: 218.97\n",
      "bias: 210.53\n",
      "variance: 8.35\n"
     ]
    }
   ],
   "source": [
    "import numpy as np\n",
    "\n",
    "n = 100\n",
    "bootstraps = 1000\n",
    "\n",
    "predictions = np.random.rand(bootstraps, n) * 10 + 10\n",
    "targets = np.random.rand(bootstraps, n)\n",
    "\n",
    "mse = np.mean((predictions - targets)**2)\n",
    "bias = np.mean((np.mean(predictions, axis=0) - targets.mean(axis=0))**2)\n",
    "variance = np.mean(np.var(predictions, axis=0))\n",
    "\n",
    "print(f\"mse: {mse:.2f}\")\n",
    "print(f\"bias: {bias:.2f}\")\n",
    "print(f\"variance: {variance:.2f}\")\n"
   ]
  },
  {
   "cell_type": "markdown",
   "metadata": {},
   "source": [
    "#### b)"
   ]
  },
  {
   "cell_type": "code",
   "execution_count": 8,
   "id": "69e9ccc1",
   "metadata": {},
   "outputs": [
    {
     "name": "stdout",
     "output_type": "stream",
     "text": [
      "mse_b: 20.33\n",
      "bias_b: 20.25\n",
      "variance_b: 0.00\n"
     ]
    }
   ],
   "source": [
    "import numpy as np\n",
    "\n",
    "n = 100\n",
    "bootstraps = 1000\n",
    "\n",
    "# Targets remain random\n",
    "targets = np.random.rand(bootstraps, n)\n",
    "\n",
    "# Predictions are constant -> low variance, high bias\n",
    "predictions_b = np.ones((bootstraps, n)) * 5\n",
    "\n",
    "mse_b = np.mean((predictions_b - targets)**2)\n",
    "bias_b = np.mean((np.mean(predictions_b, axis=0) - targets.mean(axis=0))**2)\n",
    "variance_b = np.mean(np.var(predictions_b, axis=0))\n",
    "\n",
    "print(f\"mse_b: {mse_b:.2f}\")\n",
    "print(f\"bias_b: {bias_b:.2f}\")\n",
    "print(f\"variance_b: {variance_b:.2f}\")\n"
   ]
  },
  {
   "cell_type": "markdown",
   "metadata": {},
   "source": [
    "#### c)"
   ]
  },
  {
   "cell_type": "code",
   "execution_count": 9,
   "id": "0d9c69c5",
   "metadata": {},
   "outputs": [
    {
     "name": "stdout",
     "output_type": "stream",
     "text": [
      "mse_c: 25.13\n",
      "bias_c: 0.02\n",
      "variance_c: 25.02\n"
     ]
    }
   ],
   "source": [
    "import numpy as np\n",
    "\n",
    "n = 100\n",
    "bootstraps = 1000\n",
    "\n",
    "targets = np.random.rand(bootstraps, n)\n",
    "\n",
    "predictions_c = np.tile(targets.mean(axis=0), (bootstraps, 1)) + np.random.randn(bootstraps, n) * 5\n",
    "\n",
    "mse_c = np.mean((predictions_c - targets)**2)\n",
    "bias_c = np.mean((np.mean(predictions_c, axis=0) - targets.mean(axis=0))**2)\n",
    "variance_c = np.mean(np.var(predictions_c, axis=0))\n",
    "\n",
    "print(f\"mse_c: {mse_c:.2f}\")\n",
    "print(f\"bias_c: {bias_c:.2f}\")\n",
    "print(f\"variance_c: {variance_c:.2f}\")\n"
   ]
  },
  {
   "cell_type": "markdown",
   "id": "331eaaa6",
   "metadata": {},
   "source": [
    "#### d)"
   ]
  },
  {
   "cell_type": "code",
   "execution_count": 10,
   "id": "87ea00d6",
   "metadata": {},
   "outputs": [],
   "source": [
    "import numpy as np\n",
    "import matplotlib.pyplot as plt\n",
    "from sklearn.preprocessing import PolynomialFeatures  \n",
    "from sklearn.linear_model import LinearRegression\n",
    "from sklearn.model_selection import train_test_split\n",
    "from sklearn.utils import resample"
   ]
  },
  {
   "cell_type": "code",
   "execution_count": 11,
   "id": "e40600a5",
   "metadata": {},
   "outputs": [
    {
     "data": {
      "image/png": "[encoded data removed]",
      "text/plain": [
       "<Figure size 640x480 with 1 Axes>"
      ]
     },
     "metadata": {},
     "output_type": "display_data"
    }
   ],
   "source": [
    "np.random.seed(1705)\n",
    "\n",
    "n = 100\n",
    "bootstraps = 1000\n",
    "\n",
    "x = np.linspace(-3, 3, n)\n",
    "y = np.exp(-(x**2)) + 1.5 * np.exp(-((x - 2) ** 2)) + np.random.normal(0, 0.1)\n",
    "\n",
    "biases = []\n",
    "variances = []\n",
    "mses = []\n",
    "\n",
    "for p in range(1, 15):\n",
    "    # design matrix (scaled to [-1,1] for stability)\n",
    "    X = (x / 3.0).reshape(-1, 1)\n",
    "\n",
    "    # fixed train/test split for this degree\n",
    "    X_train, X_test, y_train, y_test = train_test_split(X, y, test_size=0.25, random_state=1)\n",
    "\n",
    "    poly = PolynomialFeatures(degree=p, include_bias=True)\n",
    "    X_train_p = poly.fit_transform(X_train)\n",
    "    X_test_p  = poly.transform(X_test)\n",
    "\n",
    "    # storage for bootstrap predictions on the same test set\n",
    "    predictions = np.empty((bootstraps, y_test.shape[0]))\n",
    "    targets     = np.tile(y_test, (bootstraps, 1))\n",
    "\n",
    "    for b in range(bootstraps):\n",
    "        # bootstrap resample the training set\n",
    "        X_train_re, y_train_re = resample(X_train_p, y_train, replace=True, random_state=None)\n",
    "\n",
    "        # fit model on resampled data\n",
    "        model = LinearRegression(fit_intercept=False)\n",
    "        model.fit(X_train_re, y_train_re)\n",
    "\n",
    "        # predict on fixed test set\n",
    "        predictions[b, :] = model.predict(X_test_p)\n",
    "\n",
    "    # bias-variance decomposition on test set\n",
    "    mse      = np.mean(np.mean((predictions - targets)**2, axis=0))\n",
    "    bias2    = np.mean((np.mean(predictions, axis=0) - y_test)**2)\n",
    "    variance = np.mean(np.var(predictions, axis=0))\n",
    "\n",
    "    biases.append(bias2)\n",
    "    variances.append(variance)\n",
    "    mses.append(mse)\n",
    "\n",
    "# plot\n",
    "plt.figure()\n",
    "plt.plot(range(1, 15), mses, label=\"mse\")\n",
    "plt.plot(range(1, 15), biases, label=\"bias^2\")\n",
    "plt.plot(range(1, 15), variances, label=\"variance\")\n",
    "plt.xlabel(\"polynomial degree\")\n",
    "plt.ylabel(\"error\")\n",
    "plt.title(\"bias-variance analysis using OLS and polynomial regression\")\n",
    "plt.legend()\n",
    "plt.show()\n"
   ]
  },
  {
   "cell_type": "markdown",
   "id": "3b238fb8",
   "metadata": {},
   "source": [
    "#### e)\n",
    "\n",
    "When the polynomial degree (x-axis) increases we see that the mse and bias decreases while the variance actually stays quite similar. For the lowest polynomials we have higher mse and bias than variance and as such we can say the model is underfitting the true data patterns. With higher polynomial degrees we again find the bias to be very low which may suggest the model to me starting overfitting. Right now we dont see a clear increase in the variance of the model, which would more clearly indicate overfitting. "
   ]
  },
  {
   "cell_type": "markdown",
   "id": "1604af2e",
   "metadata": {},
   "source": [
    "#### f)"
   ]
  },
  {
   "cell_type": "code",
   "execution_count": null,
   "id": "5998cfc6",
   "metadata": {},
   "outputs": [],
   "source": []
  },
  {
   "cell_type": "markdown",
   "id": "9b113b30",
   "metadata": {},
   "source": [
    "## Exercise 5"
   ]
  },
  {
   "cell_type": "markdown",
   "id": "81461c4a",
   "metadata": {},
   "source": [
    "#### a)"
   ]
  },
  {
   "cell_type": "markdown",
   "id": "33c78038",
   "metadata": {},
   "source": [
    "#### b)"
   ]
  },
  {
   "cell_type": "markdown",
   "id": "0de298cf",
   "metadata": {},
   "source": [
    "#### c)"
   ]
  },
  {
   "cell_type": "markdown",
   "metadata": {},
   "source": [
    "#### d)"
   ]
  },
  {
   "cell_type": "markdown",
   "metadata": {},
   "source": [
    "#### e)"
   ]
  },
  {
   "cell_type": "markdown",
   "id": "700defb2",
   "metadata": {},
   "source": [
    "#### f)"
   ]
  }
 ],
 "metadata": {
  "kernelspec": {
   "display_name": ".venv",
   "language": "python",
   "name": "python3"
  },
  "language_info": {
   "codemirror_mode": {
    "name": "ipython",
    "version": 3
   },
   "file_extension": ".py",
   "mimetype": "text/x-python",
   "name": "python",
   "nbconvert_exporter": "python",
   "pygments_lexer": "ipython3",
   "version": "3.11.1"
  }
 },
 "nbformat": 4,
 "nbformat_minor": 5
}
