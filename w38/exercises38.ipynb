{
 "cells": [
  {
   "cell_type": "markdown",
   "id": "717a372a",
   "metadata": {},
   "source": [
    "## Exercise 1"
   ]
  },
  {
   "cell_type": "markdown",
   "id": "5b0434d7",
   "metadata": {},
   "source": [
    "#### a)\n",
    "\n",
    "Show that  \n",
    "$$\n",
    "\\mathbb{E}(\\hat{\\beta}_{\\mathrm{OLS}}) = \\beta\n",
    "$$\n",
    "\n",
    "Assuming the standard linear model  \n",
    "$$\n",
    "y = X\\beta + \\epsilon,\n",
    "$$\n",
    "with  \n",
    "$$\n",
    "\\mathbb{E}[\\epsilon] = 0, \\quad \\operatorname{Var}(\\epsilon) = \\sigma^2,\n",
    "$$\n",
    "then  \n",
    "$$\n",
    "\\hat{\\beta}_{\\mathrm{OLS}} = (X^\\top X)^{-1} X^\\top y.\n",
    "$$\n",
    "\n",
    "Then  \n",
    "$$\n",
    "\\begin{aligned}\n",
    "\\mathbb{E}[\\hat{\\beta}_{\\mathrm{OLS}}] \n",
    "&= \\mathbb{E}\\big[(X^\\top X)^{-1} X^\\top y\\big] \\\\\n",
    "&= (X^\\top X)^{-1} X^\\top \\mathbb{E}[y] \\\\\n",
    "&= (X^\\top X)^{-1} X^\\top \\mathbb{E}[X\\beta + \\epsilon] \\\\\n",
    "&= (X^\\top X)^{-1} X^\\top (X\\beta + \\mathbb{E}[\\epsilon]) \\\\\n",
    "&= (X^\\top X)^{-1} X^\\top X \\beta \\\\\n",
    "&= \\beta.\n",
    "\\end{aligned}\n",
    "$$\n"
   ]
  },
  {
   "cell_type": "markdown",
   "id": "8b6d1127",
   "metadata": {},
   "source": [
    "#### b)\n",
    "\n",
    "Show that  \n",
    "$$\n",
    "\\operatorname{Var}(\\hat{\\beta}_{\\mathrm{OLS}}) = \\sigma^2 (X^\\top X)^{-1}\n",
    "$$\n",
    "\n",
    "As before we have  \n",
    "$$\n",
    "y = X\\beta + \\epsilon\n",
    "$$\n",
    "with  \n",
    "$$\n",
    "\\mathbb{E}[\\epsilon] = 0, \\quad \\operatorname{Var}(\\epsilon) = \\sigma^2 I,\n",
    "$$\n",
    "then  \n",
    "$$\n",
    "\\hat{\\beta}_{\\mathrm{OLS}} = (X^\\top X)^{-1} X^\\top y.\n",
    "$$\n",
    "\n",
    "First, we center the estimator as such  \n",
    "$$\n",
    "\\hat{\\beta}_{\\mathrm{OLS}} - \\beta \n",
    "= (X^\\top X)^{-1}X^\\top(X\\beta + \\epsilon) - \\beta \\\\\n",
    "= (X^\\top X)^{-1}X^\\top X\\beta + (X^\\top X)^{-1}X^\\top \\epsilon - \\beta \\\\\n",
    "= (X^\\top X)^{-1}X^\\top \\epsilon.\n",
    "$$\n",
    "\n",
    "Then we can write the variance as an expectation  \n",
    "$$\n",
    "\\operatorname{Var}(\\hat{\\beta}_{\\mathrm{OLS}}) \n",
    "= \\mathbb{E}\\big[(\\hat{\\beta}_{\\mathrm{OLS}}-\\beta)(\\hat{\\beta}_{\\mathrm{OLS}}-\\beta)^\\top\\big].\n",
    "$$\n",
    "\n",
    "From here, using the centered form,  \n",
    "$$\n",
    "\\operatorname{Var}(\\hat{\\beta}_{\\mathrm{OLS}})\n",
    "= \\mathbb{E}\\left[(X^\\top X)^{-1}X^\\top \\epsilon \\, \\epsilon^\\top X (X^\\top X)^{-1}\\right].\n",
    "$$\n",
    "\n",
    "Since \\(X\\) is fixed,  \n",
    "$$\n",
    "\\operatorname{Var}(\\hat{\\beta}_{\\mathrm{OLS}})\n",
    "= (X^\\top X)^{-1} X^\\top \\, \\mathbb{E}[\\epsilon \\epsilon^\\top] \\, X (X^\\top X)^{-1}.\n",
    "$$\n",
    "\n",
    "Using the covariance of \\(\\epsilon\\),  \n",
    "$$\n",
    "\\mathbb{E}[\\epsilon \\epsilon^\\top] = \\sigma^2 I,\n",
    "$$\n",
    "\n",
    "we get  \n",
    "$$\n",
    "\\operatorname{Var}(\\hat{\\beta}_{\\mathrm{OLS}})\n",
    "= \\sigma^2 (X^\\top X)^{-1} X^\\top X (X^\\top X)^{-1}\n",
    "= \\sigma^2 (X^\\top X)^{-1}.\n",
    "$$\n"
   ]
  },
  {
   "cell_type": "markdown",
   "id": "fb798d30",
   "metadata": {},
   "source": [
    "## Exercise 2"
   ]
  },
  {
   "cell_type": "markdown",
   "id": "1c49308a",
   "metadata": {},
   "source": [
    "#### a)\n",
    "\n",
    "Show that  \n",
    "$$\n",
    "\\mathbb{E}[\\hat{\\beta}_{\\text{Ridge}}] = (X^\\top X + \\lambda I)^{-1} X^\\top X\\,\\beta\n",
    "$$\n",
    "\n",
    "Assume the standard linear model  \n",
    "$$\n",
    "y = X\\beta + \\epsilon, \\qquad \\mathbb{E}[\\epsilon]=0,\\quad \\operatorname{Var}(\\epsilon)=\\sigma^2 I,\n",
    "$$\n",
    "and the Ridge estimator  \n",
    "$$\n",
    "\\hat{\\beta}_{\\text{Ridge}} = (X^\\top X + \\lambda I)^{-1} X^\\top y.\n",
    "$$\n",
    "\n",
    "Then  \n",
    "$$\n",
    "\\begin{aligned}\n",
    "\\mathbb{E}[\\hat{\\beta}_{\\text{Ridge}}]\n",
    "&= \\mathbb{E}\\!\\left[(X^\\top X + \\lambda I)^{-1} X^\\top y\\right] \\\\\n",
    "&= (X^\\top X + \\lambda I)^{-1} X^\\top \\mathbb{E}[y] \\\\\n",
    "&= (X^\\top X + \\lambda I)^{-1} X^\\top \\mathbb{E}[X\\beta + \\epsilon] \\\\\n",
    "&= (X^\\top X + \\lambda I)^{-1} X^\\top (X\\beta + \\mathbb{E}[\\epsilon]) \\\\\n",
    "&= (X^\\top X + \\lambda I)^{-1} X^\\top X \\,\\beta.\n",
    "\\end{aligned}\n",
    "$$\n",
    "\n",
    "As such, for any $\\lambda > 0$ Ridge is biased, since  \n",
    "$$\n",
    "\\mathbb{E}[\\hat{\\beta}_{\\text{Ridge}}] \\neq \\beta.\n",
    "$$\n"
   ]
  },
  {
   "cell_type": "markdown",
   "id": "e846cfa7",
   "metadata": {},
   "source": [
    "#### b)\n",
    "\n",
    "Show that  \n",
    "$$\n",
    "\\operatorname{Var}(\\hat{\\beta}_{\\text{Ridge}}) \n",
    "= \\sigma^2 \\,[X^\\top X + \\lambda I]^{-1} X^\\top X \\,\\big([X^\\top X + \\lambda I]^{-1}\\big)^\\top\n",
    "$$\n",
    "\n",
    "Assume the standard linear model  \n",
    "$$\n",
    "y = X\\beta + \\epsilon, \\qquad \\mathbb{E}[\\epsilon]=0,\\quad \\operatorname{Var}(\\epsilon)=\\sigma^2 I,\n",
    "$$\n",
    "and the Ridge estimator  \n",
    "$$\n",
    "\\hat{\\beta}_{\\text{Ridge}} = (X^\\top X + \\lambda I)^{-1} X^\\top y.\n",
    "$$\n",
    "\n",
    "Then  \n",
    "$$\n",
    "\\begin{aligned}\n",
    "\\hat{\\beta}_{\\text{Ridge}}\n",
    "&= (X^\\top X + \\lambda I)^{-1} X^\\top (X\\beta + \\epsilon) \\\\\n",
    "&= (X^\\top X + \\lambda I)^{-1} X^\\top X\\,\\beta \n",
    "  + (X^\\top X + \\lambda I)^{-1} X^\\top \\epsilon .\n",
    "\\end{aligned}\n",
    "$$\n",
    "\n",
    "Hence the constant term drops in the variance, and  \n",
    "$$\n",
    "\\begin{aligned}\n",
    "\\operatorname{Var}(\\hat{\\beta}_{\\text{Ridge}})\n",
    "&= \\operatorname{Var}\\!\\left( (X^\\top X + \\lambda I)^{-1} X^\\top \\epsilon \\right) \\\\\n",
    "&= (X^\\top X + \\lambda I)^{-1} X^\\top \\, \\operatorname{Var}(\\epsilon)\\, X \\,\\big([X^\\top X + \\lambda I]^{-1}\\big)^\\top \\\\\n",
    "&= \\sigma^2 \\,[X^\\top X + \\lambda I]^{-1} X^\\top X \\,\\big([X^\\top X + \\lambda I]^{-1}\\big)^\\top .\n",
    "\\end{aligned}\n",
    "$$\n"
   ]
  },
  {
   "cell_type": "markdown",
   "id": "680100d7",
   "metadata": {},
   "source": [
    "## Exercise 3"
   ]
  },
  {
   "cell_type": "markdown",
   "id": "27de3e76",
   "metadata": {},
   "source": [
    "#### a)\n",
    "\n",
    "Show that  \n",
    "$$ \n",
    "\\mathbb{E}\\!\\left[(y-\\tilde y)^2\\right] \n",
    "= \\mathbb{Bias}[\\tilde y] + \\operatorname{Var}[\\tilde y] + \\sigma^2,\n",
    "$$\n",
    "with  \n",
    "$$ \n",
    "\\mathbb{Bias}[\\tilde y] = \\mathbb{E}\\!\\left[(y-\\mathbb{E}[\\tilde y])^2\\right], \n",
    "\\qquad\n",
    "\\operatorname{Var}[\\tilde y] = \\mathbb{E}\\!\\left[(\\tilde y-\\mathbb{E}[\\tilde y])^2\\right].\n",
    "$$\n",
    "\n",
    "We can assume that \\(y = f(x)+\\varepsilon\\) with \\(\\mathbb{E}[\\varepsilon]=0\\) and \\(\\operatorname{Var}(\\varepsilon)=\\sigma^2\\).  \n",
    "Let \\(\\tilde y\\) be the model prediction.\n",
    "\n",
    "Starting from  \n",
    "$$ \n",
    "\\mathbb{E}\\!\\left[(y-\\tilde y)^2\\right]\n",
    "= \\mathbb{E}\\!\\left[(f+\\varepsilon-\\tilde y)^2\\right],\n",
    "$$\n",
    "we add and subtract \\(\\mathbb{E}[\\tilde y]\\):  \n",
    "$$\n",
    "\\mathbb{E}\\!\\left[(f-\\mathbb{E}[\\tilde y] + \\mathbb{E}[\\tilde y]-\\tilde y + \\varepsilon)^2\\right].\n",
    "$$\n",
    "\n",
    "Expanding and taking expectations, the cross terms vanish since  \n",
    "\\(\\mathbb{E}[\\varepsilon]=0\\), \\(\\varepsilon\\) is independent of \\(\\tilde y\\),  \n",
    "and \\(f\\) is non-random.\n",
    "\n",
    "Thus,  \n",
    "$$\n",
    "\\mathbb{E}\\!\\left[(f-\\mathbb{E}[\\tilde y])^2\\right]\n",
    "+ \\mathbb{E}\\!\\left[(\\tilde y-\\mathbb{E}[\\tilde y])^2\\right]\n",
    "+ \\mathbb{E}[\\varepsilon^2].\n",
    "$$\n",
    "\n",
    "Therefore,  \n",
    "$$\n",
    "\\mathbb{E}\\!\\left[(y-\\tilde y)^2\\right]\n",
    "= \\underbrace{\\mathbb{E}\\!\\left[(f-\\mathbb{E}[\\tilde y])^2\\right]}_{\\text{bias}}\n",
    "+ \\underbrace{\\mathbb{E}\\!\\left[(\\tilde y-\\mathbb{E}[\\tilde y])^2\\right]}_{\\text{variance}}\n",
    "+ \\underbrace{\\sigma^2}_{\\text{noise}}.\n",
    "$$\n",
    "\n",
    "Since \\(f\\) is unknown, the notes write the bias using \\(y\\) as a proxy:  \n",
    "$$\n",
    "\\mathbb{Bias}[\\tilde y] = \\mathbb{E}\\!\\left[(y-\\mathbb{E}[\\tilde y])^2\\right].\n",
    "$$\n"
   ]
  },
  {
   "cell_type": "markdown",
   "id": "08a75c23",
   "metadata": {},
   "source": [
    "#### b)\n",
    "\n",
    "Bias measures the distance from the true underlying function to the avg. model prediction. If we find high bias this means that the model is underfitting the actual true patterns in the data. \n",
    "\n",
    "Variance on the other hand is a measure of the changes or differences in the predictions from the model given training on different datasets. If we see a high variance this means that the model is overfitting and too sensitive to noise and non-true patterns in the data.\n",
    "\n",
    "The noise term is furthermore an error from randomness in the data which is not reducible and that no model can eliminate. "
   ]
  },
  {
   "cell_type": "markdown",
   "id": "b49c7b63",
   "metadata": {},
   "source": [
    "## Exercise 4"
   ]
  },
  {
   "cell_type": "markdown",
   "id": "8c2303ec",
   "metadata": {},
   "source": [
    "#### a)"
   ]
  },
  {
   "cell_type": "code",
   "execution_count": 7,
   "id": "eb49ae66",
   "metadata": {},
   "outputs": [
    {
     "name": "stdout",
     "output_type": "stream",
     "text": [
      "mse: 218.97\n",
      "bias: 210.57\n",
      "variance: 8.32\n"
     ]
    }
   ],
   "source": [
    "import numpy as np\n",
    "\n",
    "n = 100\n",
    "bootstraps = 1000\n",
    "\n",
    "predictions = np.random.rand(bootstraps, n) * 10 + 10\n",
    "targets = np.random.rand(bootstraps, n)\n",
    "\n",
    "mse = np.mean((predictions - targets)**2)\n",
    "bias = np.mean((np.mean(predictions, axis=0) - targets.mean(axis=0))**2)\n",
    "variance = np.mean(np.var(predictions, axis=0))\n",
    "\n",
    "print(f\"mse: {mse:.2f}\")\n",
    "print(f\"bias: {bias:.2f}\")\n",
    "print(f\"variance: {variance:.2f}\")\n"
   ]
  },
  {
   "cell_type": "markdown",
   "id": "e29dcad9",
   "metadata": {},
   "source": [
    "#### b)"
   ]
  },
  {
   "cell_type": "code",
   "execution_count": 8,
   "id": "69e9ccc1",
   "metadata": {},
   "outputs": [
    {
     "name": "stdout",
     "output_type": "stream",
     "text": [
      "mse_b: 20.35\n",
      "bias_b: 20.26\n",
      "variance_b: 0.00\n"
     ]
    }
   ],
   "source": [
    "import numpy as np\n",
    "\n",
    "n = 100\n",
    "bootstraps = 1000\n",
    "\n",
    "# Targets remain random\n",
    "targets = np.random.rand(bootstraps, n)\n",
    "\n",
    "# Predictions are constant -> low variance, high bias\n",
    "predictions_b = np.ones((bootstraps, n)) * 5\n",
    "\n",
    "mse_b = np.mean((predictions_b - targets)**2)\n",
    "bias_b = np.mean((np.mean(predictions_b, axis=0) - targets.mean(axis=0))**2)\n",
    "variance_b = np.mean(np.var(predictions_b, axis=0))\n",
    "\n",
    "print(f\"mse_b: {mse_b:.2f}\")\n",
    "print(f\"bias_b: {bias_b:.2f}\")\n",
    "print(f\"variance_b: {variance_b:.2f}\")\n"
   ]
  },
  {
   "cell_type": "markdown",
   "id": "9a17014d",
   "metadata": {},
   "source": [
    "#### c)"
   ]
  },
  {
   "cell_type": "code",
   "execution_count": 9,
   "id": "0d9c69c5",
   "metadata": {},
   "outputs": [
    {
     "name": "stdout",
     "output_type": "stream",
     "text": [
      "mse_c: 25.25\n",
      "bias_c: 0.03\n",
      "variance_c: 25.13\n"
     ]
    }
   ],
   "source": [
    "import numpy as np\n",
    "\n",
    "n = 100\n",
    "bootstraps = 1000\n",
    "\n",
    "targets = np.random.rand(bootstraps, n)\n",
    "\n",
    "predictions_c = np.tile(targets.mean(axis=0), (bootstraps, 1)) + np.random.randn(bootstraps, n) * 5\n",
    "\n",
    "mse_c = np.mean((predictions_c - targets)**2)\n",
    "bias_c = np.mean((np.mean(predictions_c, axis=0) - targets.mean(axis=0))**2)\n",
    "variance_c = np.mean(np.var(predictions_c, axis=0))\n",
    "\n",
    "print(f\"mse_c: {mse_c:.2f}\")\n",
    "print(f\"bias_c: {bias_c:.2f}\")\n",
    "print(f\"variance_c: {variance_c:.2f}\")\n"
   ]
  },
  {
   "cell_type": "markdown",
   "id": "331eaaa6",
   "metadata": {},
   "source": [
    "#### d)"
   ]
  },
  {
   "cell_type": "code",
   "execution_count": 10,
   "id": "87ea00d6",
   "metadata": {},
   "outputs": [],
   "source": [
    "import numpy as np\n",
    "import matplotlib.pyplot as plt\n",
    "from sklearn.preprocessing import PolynomialFeatures  \n",
    "from sklearn.linear_model import LinearRegression\n",
    "from sklearn.model_selection import train_test_split\n",
    "from sklearn.utils import resample"
   ]
  },
  {
   "cell_type": "code",
   "execution_count": 11,
   "id": "e40600a5",
   "metadata": {},
   "outputs": [
    {
     "data": {
      "image/png": "[encoded data removed]",
      "text/plain": [
       "<Figure size 640x480 with 1 Axes>"
      ]
     },
     "metadata": {},
     "output_type": "display_data"
    }
   ],
   "source": [
    "np.random.seed(1705)\n",
    "\n",
    "n = 100\n",
    "bootstraps = 1000\n",
    "\n",
    "x = np.linspace(-3, 3, n)\n",
    "y = np.exp(-(x**2)) + 1.5 * np.exp(-((x - 2) ** 2)) + np.random.normal(0, 0.1)\n",
    "\n",
    "biases = []\n",
    "variances = []\n",
    "mses = []\n",
    "\n",
    "for p in range(1, 15):\n",
    "    # design matrix (scaled to [-1,1] for stability)\n",
    "    X = (x / 3.0).reshape(-1, 1)\n",
    "\n",
    "    # fixed train/test split for this degree\n",
    "    X_train, X_test, y_train, y_test = train_test_split(X, y, test_size=0.25, random_state=1)\n",
    "\n",
    "    poly = PolynomialFeatures(degree=p, include_bias=True)\n",
    "    X_train_p = poly.fit_transform(X_train)\n",
    "    X_test_p  = poly.transform(X_test)\n",
    "\n",
    "    # storage for bootstrap predictions on the same test set\n",
    "    predictions = np.empty((bootstraps, y_test.shape[0]))\n",
    "    targets     = np.tile(y_test, (bootstraps, 1))\n",
    "\n",
    "    for b in range(bootstraps):\n",
    "        # bootstrap resample the training set\n",
    "        X_train_re, y_train_re = resample(X_train_p, y_train, replace=True, random_state=None)\n",
    "\n",
    "        # fit model on resampled data\n",
    "        model = LinearRegression(fit_intercept=False)\n",
    "        model.fit(X_train_re, y_train_re)\n",
    "\n",
    "        # predict on fixed test set\n",
    "        predictions[b, :] = model.predict(X_test_p)\n",
    "\n",
    "    # bias-variance decomposition on test set\n",
    "    mse      = np.mean(np.mean((predictions - targets)**2, axis=0))\n",
    "    bias2    = np.mean((np.mean(predictions, axis=0) - y_test)**2)\n",
    "    variance = np.mean(np.var(predictions, axis=0))\n",
    "\n",
    "    biases.append(bias2)\n",
    "    variances.append(variance)\n",
    "    mses.append(mse)\n",
    "\n",
    "# plot\n",
    "plt.figure()\n",
    "plt.plot(range(1, 15), mses, label=\"mse\")\n",
    "plt.plot(range(1, 15), biases, label=\"bias^2\")\n",
    "plt.plot(range(1, 15), variances, label=\"variance\")\n",
    "plt.xlabel(\"polynomial degree\")\n",
    "plt.ylabel(\"error\")\n",
    "plt.title(\"bias-variance analysis using OLS and polynomial regression\")\n",
    "plt.legend()\n",
    "plt.show()\n"
   ]
  },
  {
   "cell_type": "markdown",
   "id": "3b238fb8",
   "metadata": {},
   "source": [
    "#### e)\n",
    "\n",
    "When the polynomial degree (x-axis) increases we see that the mse and bias decreases while the variance actually stays quite similar. For the lowest polynomials we have higher mse and bias than variance and as such we can say the model is underfitting the true data patterns. With higher polynomial degrees we again find the bias to be very low which may suggest the model to me starting overfitting. Right now we dont see a clear increase in the variance of the model, which would more clearly indicate overfitting. "
   ]
  },
  {
   "cell_type": "markdown",
   "id": "1604af2e",
   "metadata": {},
   "source": [
    "#### f)"
   ]
  },
  {
   "cell_type": "code",
   "execution_count": 12,
   "id": "5998cfc6",
   "metadata": {},
   "outputs": [
    {
     "data": {
      "image/png": "[encoded data removed]",
      "text/plain": [
       "<Figure size 640x480 with 1 Axes>"
      ]
     },
     "metadata": {},
     "output_type": "display_data"
    }
   ],
   "source": [
    "import numpy as np\n",
    "import matplotlib.pyplot as plt\n",
    "from sklearn.preprocessing import PolynomialFeatures\n",
    "from sklearn.linear_model import LinearRegression\n",
    "from sklearn.model_selection import train_test_split\n",
    "from sklearn.utils import resample\n",
    "\n",
    "np.random.seed(1705)\n",
    "\n",
    "n = 100\n",
    "x = np.linspace(-3, 3, n)\n",
    "y = np.exp(-(x**2)) + 1.5 * np.exp(-((x - 2) ** 2)) + np.random.normal(0, 0.1, size=n)\n",
    "\n",
    "X = (x / 3.0).reshape(-1, 1)  # scale inputs\n",
    "\n",
    "# fixed test set\n",
    "X_train_full, X_test, y_train_full, y_test = train_test_split(X, y, test_size=0.25, random_state=1)\n",
    "\n",
    "bootstraps = 800\n",
    "degree = 5\n",
    "sizes = np.arange(20, X_train_full.shape[0] + 1, 5)\n",
    "\n",
    "biases, variances, mses = [], [], []\n",
    "\n",
    "# Fix polynomial transformer once\n",
    "poly = PolynomialFeatures(degree=degree, include_bias=True)\n",
    "X_train_full_p = poly.fit_transform(X_train_full)\n",
    "X_test_p = poly.transform(X_test)\n",
    "\n",
    "for m in sizes:\n",
    "    # draw base subset\n",
    "    idx = np.random.choice(X_train_full.shape[0], size=m, replace=False)\n",
    "    X_base_p, y_base = X_train_full_p[idx], y_train_full[idx]\n",
    "\n",
    "    preds = np.empty((bootstraps, y_test.shape[0]))\n",
    "    targets = np.tile(y_test, (bootstraps, 1))\n",
    "\n",
    "    for b in range(bootstraps):\n",
    "        X_re, y_re = resample(X_base_p, y_base, replace=True)\n",
    "        model = LinearRegression(fit_intercept=False)\n",
    "        model.fit(X_re, y_re)\n",
    "        preds[b, :] = model.predict(X_test_p)\n",
    "\n",
    "    mse   = np.mean(np.mean((preds - targets)**2, axis=0))\n",
    "    bias2 = np.mean((np.mean(preds, axis=0) - y_test)**2)\n",
    "    var   = np.mean(np.var(preds, axis=0))\n",
    "\n",
    "    mses.append(mse); biases.append(bias2); variances.append(var)\n",
    "\n",
    "# Plot\n",
    "plt.figure()\n",
    "plt.plot(sizes, mses, label=\"MSE\")\n",
    "plt.plot(sizes, biases, label=\"Bias^2\")\n",
    "plt.plot(sizes, variances, label=\"Variance\")\n",
    "plt.xlabel(\"number of training points\")\n",
    "plt.ylabel(\"error\")\n",
    "plt.title(f\"Bias–variance vs. data size (OLS, degree = {degree})\")\n",
    "plt.legend()\n",
    "plt.show()\n"
   ]
  },
  {
   "cell_type": "markdown",
   "id": "bbd1efeb",
   "metadata": {},
   "source": [
    "This solution to f) was probably not sort of perfect, but we see a large spike in variance for lower number of training points (for a fairly small dataset) with an increase for more points, and bias stays quite low along the change"
   ]
  },
  {
   "cell_type": "markdown",
   "id": "9b113b30",
   "metadata": {},
   "source": [
    "## Exercise 5"
   ]
  },
  {
   "cell_type": "markdown",
   "id": "81461c4a",
   "metadata": {},
   "source": [
    "#### a) Why do we scale data?\n",
    "\n",
    "In ML we scale data to make sure all features are comparable on the same scale such that they may contribute equally to the model. Moreso it may help with make regularization work properly (ridge and lasso)."
   ]
  },
  {
   "cell_type": "markdown",
   "id": "33c78038",
   "metadata": {},
   "source": [
    "#### b) Why does the OLS method give practically equivelent models on scaled and unscaled data?\n",
    "\n",
    "The ordinary least squares minimizes squared errors, and as such the predictions from OLS are often mostly similar before and after scaling."
   ]
  },
  {
   "cell_type": "markdown",
   "id": "0de298cf",
   "metadata": {},
   "source": [
    "#### c) Why does the Ridge method not give practically equivelent models on scaled and unscaled data? Why do we only consider the model on scaled data correct?\n",
    "\n",
    "Using Ridge regression the cost function penalize large coefficients so if we keep the features unscaled we may punish some features more than others. After scaling data the cost function applies penalty evenly to all features which corrects the model."
   ]
  },
  {
   "cell_type": "markdown",
   "metadata": {},
   "source": [
    "#### d) Why do we say that the Ridge method gives a biased model?\n",
    "\n",
    "The Ridge method reduces coefficients to 0 and doing so they are more and more removed from their true value thus introducing bias in the model but traded off by lower variance."
   ]
  },
  {
   "cell_type": "markdown",
   "metadata": {},
   "source": [
    "#### e) Is the MSE of the OLS method affected by scaling of the feature matrix? Is it affected by scaling of the target data?\n",
    "\n",
    "If we scale the feature matrix the MSE stays same and predictions are unchanged, but if we scale the target data the prediciton errors are also scaled and thus affects MSE."
   ]
  },
  {
   "cell_type": "markdown",
   "id": "700defb2",
   "metadata": {},
   "source": [
    "#### f) Read about the R2 score, a metric we will ask you to use a lot later in the course. Is the R2 score of the OLS method affected by scaling of the feature matrix? Is it affected by scaling of the target data?\n",
    "\n",
    "In feature matrix the predicitons dont change and the R squared stays the same. For the target data if we scale both the nominator and denominator in the R squared it also remains unchanged."
   ]
  },
  {
   "cell_type": "markdown",
   "id": "9fbc64a0",
   "metadata": {},
   "source": [
    "#### g) Give interpretations of the following R2 scores: 0, 0.5, 1.\n",
    "\n",
    "For 0 the model predicts just as good as the mean value of the data, for 0.5 model explains 50 percent of the variance in the target and for 1.0 it perfectly predicts all data points."
   ]
  },
  {
   "cell_type": "markdown",
   "id": "b77328ea",
   "metadata": {},
   "source": [
    "#### h) What is an advantage of the R2 score over the MSE?\n",
    "\n",
    "As we have already discussed the R squared metric is independent from scaling and thus becomes a good metric across different datasets while we need to normalize mean squared error somehow to make it comparable!"
   ]
  }
 ],
 "metadata": {
  "kernelspec": {
   "display_name": ".venv",
   "language": "python",
   "name": "python3"
  },
  "language_info": {
   "codemirror_mode": {
    "name": "ipython",
    "version": 3
   },
   "file_extension": ".py",
   "mimetype": "text/x-python",
   "name": "python",
   "nbconvert_exporter": "python",
   "pygments_lexer": "ipython3",
   "version": "3.11.1"
  }
 },
 "nbformat": 4,
 "nbformat_minor": 5
}
