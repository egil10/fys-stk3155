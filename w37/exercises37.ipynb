{
 "cells": [
  {
   "cell_type": "markdown",
   "id": "ebfb35f3",
   "metadata": {},
   "source": [
    "## Exercise 1"
   ]
  },
  {
   "cell_type": "code",
   "execution_count": null,
   "id": "c0b75f63",
   "metadata": {},
   "outputs": [],
   "source": [
    "# a)\n",
    "\n",
    "import numpy as np\n",
    "\n",
    "rng = np.random.default_rng(315)\n",
    "n = 100\n",
    "x = rng.uniform(-2.0, 2.0, size=n)\n",
    "sigma = 0.0\n",
    "noise = sigma * rng.normal(size=n)\n",
    "y = 2 - x + 5 * x**2 + noise\n",
    "X = np.column_stack((x, x**2))\n",
    "\n",
    "# Standardize features (zero mean, unit variance for each feature)\n",
    "X_mean = X.mean(axis=0)\n",
    "X_std = X.std(axis=0)\n",
    "X_std[X_std == 0] = 1  # safeguard to avoid division by zero for constant features\n",
    "X_norm = (X - X_mean) / X_std\n",
    "\n",
    "# Center the target to zero mean (optional, to simplify intercept handling)\n",
    "y_mean = y.mean()\n",
    "y_centered = y - y_mean\n",
    "\n"
   ]
  },
  {
   "cell_type": "markdown",
   "id": "15ae172d",
   "metadata": {},
   "source": [
    "## Exercise 2"
   ]
  },
  {
   "cell_type": "markdown",
   "id": "55e42bc0",
   "metadata": {},
   "source": [
    "$\\textbf{a)}$\n",
    "$\\textbf{b)}$\n",
    "$\\textbf{c)}$\n",
    "$\\textbf{d)}$\n",
    "$\\textbf{e)}$\n",
    "$\\textbf{f)}$"
   ]
  },
  {
   "cell_type": "markdown",
   "id": "7d0be1d6",
   "metadata": {},
   "source": [
    "## Exercise 3"
   ]
  },
  {
   "cell_type": "markdown",
   "id": "dd50132e",
   "metadata": {},
   "source": [
    "$\\textbf{a)}$\n",
    "$\\textbf{b)}$\n",
    "$\\textbf{c)}$\n",
    "$\\textbf{d)}$\n",
    "$\\textbf{e)}$\n",
    "$\\textbf{f)}$"
   ]
  },
  {
   "cell_type": "markdown",
   "id": "6f1d172f",
   "metadata": {},
   "source": [
    "## Exercise 4"
   ]
  },
  {
   "cell_type": "markdown",
   "id": "f997bc1f",
   "metadata": {},
   "source": [
    "$\\textbf{a)}$\n",
    "$\\textbf{b)}$\n",
    "$\\textbf{c)}$\n",
    "$\\textbf{d)}$\n",
    "$\\textbf{e)}$\n",
    "$\\textbf{f)}$"
   ]
  },
  {
   "cell_type": "markdown",
   "id": "4976dd3e",
   "metadata": {},
   "source": [
    "## Exercise 5"
   ]
  },
  {
   "cell_type": "markdown",
   "id": "4f2f26a0",
   "metadata": {},
   "source": [
    "$\\textbf{a)}$\n",
    "$\\textbf{b)}$\n",
    "$\\textbf{c)}$\n",
    "$\\textbf{d)}$\n",
    "$\\textbf{e)}$\n",
    "$\\textbf{f)}$"
   ]
  }
 ],
 "metadata": {
  "kernelspec": {
   "display_name": ".venv",
   "language": "python",
   "name": "python3"
  },
  "language_info": {
   "codemirror_mode": {
    "name": "ipython",
    "version": 3
   },
   "file_extension": ".py",
   "mimetype": "text/x-python",
   "name": "python",
   "nbconvert_exporter": "python",
   "pygments_lexer": "ipython3",
   "version": "3.11.1"
  }
 },
 "nbformat": 4,
 "nbformat_minor": 5
}
