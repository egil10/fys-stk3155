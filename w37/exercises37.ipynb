{
 "cells": [
  {
   "cell_type": "markdown",
   "id": "ebfb35f3",
   "metadata": {},
   "source": [
    "## Exercise 1"
   ]
  },
  {
   "cell_type": "code",
   "execution_count": 3,
   "id": "c0b75f63",
   "metadata": {},
   "outputs": [
    {
     "name": "stdout",
     "output_type": "stream",
     "text": [
      "Feature means before standardization: [0.22725888 1.68133322]\n",
      "Feature stds before standardization: [1.2765918  1.19760296]\n",
      "Means after standardization (≈0): [-5.88418203e-17  2.85570179e-16]\n",
      "Stds after standardization (≈1): [1. 1.]\n",
      "y_centered mean (≈0): -1.3500311979441904e-15\n"
     ]
    }
   ],
   "source": [
    "# a)\n",
    "\n",
    "import numpy as np\n",
    "\n",
    "rng = np.random.default_rng(315)\n",
    "n = 100\n",
    "x = rng.uniform(-2.0, 2.0, size=n)\n",
    "sigma = 0.0\n",
    "noise = sigma * rng.normal(size=n)\n",
    "y = 2 - x + 5 * x**2 + noise\n",
    "X = np.column_stack((x, x**2))\n",
    "\n",
    "# Standardize features (zero mean, unit variance for each feature)\n",
    "X_mean = X.mean(axis=0)\n",
    "X_std = X.std(axis=0)\n",
    "X_std[X_std == 0] = 1  # safeguard to avoid division by zero for constant features\n",
    "X_norm = (X - X_mean) / X_std\n",
    "\n",
    "# Center the target to zero mean (optional, to simplify intercept handling)\n",
    "y_mean = y.mean()\n",
    "y_centered = y - y_mean\n",
    "\n",
    "# Quick verification\n",
    "print(\"Feature means before standardization:\", X_mean)\n",
    "print(\"Feature stds before standardization:\", X_std)\n",
    "print(\"Means after standardization (≈0):\", X_norm.mean(axis=0))\n",
    "print(\"Stds after standardization (≈1):\", X_norm.std(axis=0))\n",
    "print(\"y_centered mean (≈0):\", y_centered.mean())\n"
   ]
  },
  {
   "cell_type": "markdown",
   "id": "15ae172d",
   "metadata": {},
   "source": [
    "## Exercise 2"
   ]
  },
  {
   "cell_type": "code",
   "execution_count": 4,
   "id": "342152dd",
   "metadata": {},
   "outputs": [
    {
     "name": "stdout",
     "output_type": "stream",
     "text": [
      "OLS Hessian eigenvalues: [2.32688393 1.67311607]\n",
      "Ridge Hessian eigenvalues (λ=0.001): [2.32888393 1.67511607]\n",
      "grad_OLS(θ=0): [  0.5957978  -11.55873229]\n",
      "grad_Ridge(θ=0): [  0.5957978  -11.55873229]\n"
     ]
    }
   ],
   "source": [
    "# Exercise 2)\n",
    "\n",
    "# Inspired by the lecture examples:\n",
    "# Gradient for OLS:    ∇J(θ) = (2/n) X^T (Xθ − y)\n",
    "# Hessian for OLS:     H = (2/n) X^T X (PSD)\n",
    "# Gradient for Ridge:  ∇J_λ(θ) = (2/n) X^T (Xθ − y) + 2λθ\n",
    "# Hessian for Ridge:   H_λ = (2/n) X^T X + 2λ I (PD for λ>0)\n",
    "\n",
    "import numpy as np\n",
    "\n",
    "# Use standardized features X_norm and centered target y_centered from Exercise 1\n",
    "XT_X = X_norm.T @ X_norm\n",
    "n = X_norm.shape[0]\n",
    "p = X_norm.shape[1]\n",
    "I = np.eye(p)\n",
    "\n",
    "# OLS Hessian and eigenvalues\n",
    "H_ols = (2.0 / n) * XT_X\n",
    "Eig_ols, _ = np.linalg.eig(H_ols)\n",
    "print(f\"OLS Hessian eigenvalues: {Eig_ols}\")\n",
    "\n",
    "# Ridge Hessian and eigenvalues (choose a sample lambda just to illustrate)\n",
    "lam = 1e-3\n",
    "H_ridge = (2.0 / n) * XT_X + 2.0 * lam * I\n",
    "Eig_ridge, _ = np.linalg.eig(H_ridge)\n",
    "print(f\"Ridge Hessian eigenvalues (λ={lam}): {Eig_ridge}\")\n",
    "\n",
    "# Gradient functions\n",
    "\n",
    "def grad_ols(theta, X, y):\n",
    "    return (2.0 / X.shape[0]) * (X.T @ (X @ theta - y))\n",
    "\n",
    "\n",
    "def grad_ridge(theta, X, y, lam):\n",
    "    return (2.0 / X.shape[0]) * (X.T @ (X @ theta - y)) + 2.0 * lam * theta\n",
    "\n",
    "# Sanity check at θ = 0\n",
    "theta0 = np.zeros(p)\n",
    "print(\"grad_OLS(θ=0):\", grad_ols(theta0, X_norm, y_centered))\n",
    "print(\"grad_Ridge(θ=0):\", grad_ridge(theta0, X_norm, y_centered, lam))\n"
   ]
  },
  {
   "cell_type": "markdown",
   "id": "7d0be1d6",
   "metadata": {},
   "source": [
    "## Exercise 3"
   ]
  },
  {
   "cell_type": "markdown",
   "id": "dd50132e",
   "metadata": {},
   "source": [
    "$\\textbf{a)}$\n",
    "$\\textbf{b)}$\n",
    "$\\textbf{c)}$\n",
    "$\\textbf{d)}$\n",
    "$\\textbf{e)}$\n",
    "$\\textbf{f)}$"
   ]
  },
  {
   "cell_type": "markdown",
   "id": "6f1d172f",
   "metadata": {},
   "source": [
    "## Exercise 4"
   ]
  },
  {
   "cell_type": "markdown",
   "id": "f997bc1f",
   "metadata": {},
   "source": [
    "$\\textbf{a)}$\n",
    "$\\textbf{b)}$\n",
    "$\\textbf{c)}$\n",
    "$\\textbf{d)}$\n",
    "$\\textbf{e)}$\n",
    "$\\textbf{f)}$"
   ]
  },
  {
   "cell_type": "markdown",
   "id": "4f2f26a0",
   "metadata": {},
   "source": [
    "$\\textbf{a)}$\n",
    "$\\textbf{b)}$\n",
    "$\\textbf{c)}$\n",
    "$\\textbf{d)}$\n",
    "$\\textbf{e)}$\n",
    "$\\textbf{f)}$"
   ]
  },
  {
   "cell_type": "markdown",
   "id": "4976dd3e",
   "metadata": {},
   "source": [
    "## Exercise 5"
   ]
  }
 ],
 "metadata": {
  "kernelspec": {
   "display_name": ".venv",
   "language": "python",
   "name": "python3"
  },
  "language_info": {
   "codemirror_mode": {
    "name": "ipython",
    "version": 3
   },
   "file_extension": ".py",
   "mimetype": "text/x-python",
   "name": "python",
   "nbconvert_exporter": "python",
   "pygments_lexer": "ipython3",
   "version": "3.11.1"
  }
 },
 "nbformat": 4,
 "nbformat_minor": 5
}
